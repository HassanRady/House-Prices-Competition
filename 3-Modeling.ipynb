{
 "cells": [
  {
   "cell_type": "code",
   "execution_count": 1,
   "metadata": {},
   "outputs": [],
   "source": [
    "import numpy as np\n",
    "import pandas as pd\n",
    "import math\n",
    "\n",
    "from sklearn.base import BaseEstimator, TransformerMixin, RegressorMixin, clone\n",
    "from sklearn.model_selection import cross_val_score, KFold, train_test_split, GridSearchCV\n",
    "from sklearn.metrics import make_scorer, mean_squared_error\n",
    "from sklearn.linear_model import Lasso, ElasticNet\n",
    "from sklearn.kernel_ridge import KernelRidge\n",
    "from sklearn.ensemble import GradientBoostingRegressor\n",
    "from sklearn.svm import SVR\n",
    "import xgboost as xgb"
   ]
  },
  {
   "cell_type": "code",
   "execution_count": 2,
   "metadata": {},
   "outputs": [],
   "source": [
    "SEED = 42\n",
    "np.random.seed(SEED)\n",
    "\n",
    "TARGET = \"SalePrice\"\n",
    "TRAIN_SET = \"processed_train.csv\"\n",
    "TEST_SET = 'processed_test.csv'"
   ]
  },
  {
   "cell_type": "code",
   "execution_count": 3,
   "metadata": {},
   "outputs": [],
   "source": [
    "SEED = 42\n",
    "np.random.seed(SEED)"
   ]
  },
  {
   "cell_type": "code",
   "execution_count": 4,
   "metadata": {},
   "outputs": [],
   "source": [
    "df_train = pd.read_csv(TRAIN_SET)\n",
    "df_test = pd.read_csv(TEST_SET)\n",
    "\n",
    "X_test = df_test.drop(['Id'], axis=1)\n",
    "test_Id = df_test['Id']"
   ]
  },
  {
   "cell_type": "code",
   "execution_count": 5,
   "metadata": {},
   "outputs": [],
   "source": [
    "X_train = df_train.drop([TARGET], axis=1)\n",
    "y_train = df_train[TARGET]"
   ]
  },
  {
   "cell_type": "code",
   "execution_count": 6,
   "metadata": {},
   "outputs": [],
   "source": [
    "#Validation function\n",
    "n_folds =  12\n",
    "# n_folds =  X_train.shape[0]\n",
    "\n",
    "def scorer_rmse(y_true, y_pred):\n",
    "    score = math.sqrt(mean_squared_error(y_true, y_pred))\n",
    "    return score\n",
    "\n",
    "scorer = make_scorer(scorer_rmse, greater_is_better=False)\n",
    "\n",
    "def cv_rsme(model, X_train, y_train):\n",
    "    kf = KFold(n_folds, shuffle=True, random_state=SEED).get_n_splits(X_train)\n",
    "    rmse= -cross_val_score(model, X_train.values, y_train.values, scoring=scorer, cv=kf, n_jobs=-1)\n",
    "    return rmse"
   ]
  },
  {
   "cell_type": "code",
   "execution_count": 7,
   "metadata": {},
   "outputs": [],
   "source": [
    "df_scores = pd.DataFrame(columns=['rsme', 'Summary'])\n",
    "df_scores.index.name = 'Model'"
   ]
  },
  {
   "cell_type": "markdown",
   "metadata": {},
   "source": [
    "**Lasso regression**"
   ]
  },
  {
   "cell_type": "code",
   "execution_count": 8,
   "metadata": {},
   "outputs": [
    {
     "name": "stdout",
     "output_type": "stream",
     "text": [
      "lasso rsme mean: 0.11467355775891365 std: 0.011616524307848698\n",
      "Wall time: 3.75 s\n"
     ]
    }
   ],
   "source": [
    "%%time\n",
    "\n",
    "param_grid = {'alpha': [0.0005, 0.005, 0.05, 0.01, 0.1, 1],\n",
    "             }\n",
    "\n",
    "lasso = Lasso(random_state=SEED)\n",
    "grid_search = GridSearchCV(lasso, param_grid=param_grid, cv=n_folds, scoring=scorer, return_train_score=True, n_jobs=-1)\n",
    "grid_search.fit(X_train, y_train)\n",
    "best_params_lasso = grid_search.best_params_\n",
    "\n",
    "lasso = Lasso(**best_params_lasso, random_state=SEED)\n",
    "lasso_score = cv_rsme(lasso, X_train, y_train)\n",
    "print(f\"lasso rsme mean: {lasso_score.mean()} std: {lasso_score.std()}\")\n",
    "\n",
    "df_scores.loc['Lasso', 'Summary'] = (lasso.get_params().keys(), lasso.get_params().values())                   \n",
    "df_scores.loc['Lasso', 'rsme'] = lasso_score.mean()"
   ]
  },
  {
   "cell_type": "markdown",
   "metadata": {},
   "source": [
    "**Elastic regression**"
   ]
  },
  {
   "cell_type": "code",
   "execution_count": 9,
   "metadata": {},
   "outputs": [
    {
     "name": "stdout",
     "output_type": "stream",
     "text": [
      "lasso rsme mean: 0.11461614279505189 std: 0.011507961490369695\n"
     ]
    }
   ],
   "source": [
    "en = ElasticNet(alpha=0.0005, l1_ratio=.9, random_state=3)\n",
    "en_score = cv_rsme(en, X_train, y_train)\n",
    "print(f\"lasso rsme mean: {en_score.mean()} std: {en_score.std()}\")\n",
    "\n",
    "df_scores.loc['Elastic', 'Summary'] = (en.get_params().keys(), en.get_params().values())                   \n",
    "df_scores.loc['Elastic', 'rsme'] = en_score.mean()"
   ]
  },
  {
   "cell_type": "markdown",
   "metadata": {},
   "source": [
    "**Kernel ridge regression**"
   ]
  },
  {
   "cell_type": "code",
   "execution_count": 10,
   "metadata": {},
   "outputs": [
    {
     "name": "stdout",
     "output_type": "stream",
     "text": [
      "lasso rsme mean: 0.11907129116183984 std: 0.013285758368296085\n"
     ]
    }
   ],
   "source": [
    "krr = KernelRidge(alpha=0.6, kernel='polynomial', degree=2, coef0=2.5)\n",
    "krr_score = cv_rsme(krr, X_train, y_train)\n",
    "print(f\"lasso rsme mean: {krr_score.mean()} std: {krr_score.std()}\")\n",
    "\n",
    "df_scores.loc['KRR', 'Summary'] = (krr.get_params().keys(), krr.get_params().values())                   \n",
    "df_scores.loc['KRR', 'rsme'] = krr_score.mean()"
   ]
  },
  {
   "cell_type": "markdown",
   "metadata": {},
   "source": [
    "**Support vector regressor**"
   ]
  },
  {
   "cell_type": "code",
   "execution_count": 11,
   "metadata": {},
   "outputs": [
    {
     "name": "stdout",
     "output_type": "stream",
     "text": [
      "svr rsme mean: 0.11555427118948934 std: 0.012669757383678168\n",
      "Wall time: 323 ms\n"
     ]
    }
   ],
   "source": [
    "%%time\n",
    "\n",
    "# param_grid = {'C': [1, 5, 10, 20],\n",
    "#              'kernel': ['poly', 'rbf', 'sigmoid'],\n",
    "#               'degree': [3, 5, 10],\n",
    "#              'gamma': ['scale', 'auto'],\n",
    "#              }\n",
    "\n",
    "# svr = SVR()\n",
    "# grid_search = GridSearchCV(svr, param_grid=param_grid, cv=n_folds, scoring=scorer, return_train_score=True, n_jobs=-1)\n",
    "# grid_search.fit(X_train, y_train)\n",
    "# best_params_svr = grid_search.best_params_\n",
    "\n",
    "best_params_svr = {'C': 1, 'degree': 3, 'gamma': 'scale', 'kernel': 'rbf'}\n",
    "svr = SVR(**best_params_svr)\n",
    "svr_score = cv_rsme(svr, X_train, y_train)\n",
    "print(f\"svr rsme mean: {svr_score.mean()} std: {svr_score.std()}\")\n",
    "\n",
    "df_scores.loc['SVR', 'Summary'] = (svr.get_params().keys(), svr.get_params().values())                   \n",
    "df_scores.loc['SVR', 'rsme'] = svr_score.mean()"
   ]
  },
  {
   "cell_type": "markdown",
   "metadata": {},
   "source": [
    "**Gradient boost regressor**"
   ]
  },
  {
   "cell_type": "code",
   "execution_count": 12,
   "metadata": {},
   "outputs": [
    {
     "name": "stdout",
     "output_type": "stream",
     "text": [
      "GBoost rsme mean: 0.11029410067198851 std: 0.014525963145810379\n",
      "Wall time: 26.7 s\n"
     ]
    }
   ],
   "source": [
    "%%time\n",
    "\n",
    "GBoost = GradientBoostingRegressor(n_estimators=2000, learning_rate=0.05,\n",
    "                                   max_features='sqrt', max_depth=4,\n",
    "                                   loss='huber', random_state=SEED)\n",
    "GBoost_score = cv_rsme(GBoost, X_train, y_train)\n",
    "print(f\"GBoost rsme mean: {GBoost_score.mean()} std: {GBoost_score.std()}\")\n",
    "\n",
    "\n",
    "df_scores.loc['Gboost', 'rsme'] = GBoost_score.mean()\n",
    "df_scores.loc['Gboost', 'Summary'] = (GBoost.get_params().keys(), GBoost.get_params().values()) "
   ]
  },
  {
   "cell_type": "markdown",
   "metadata": {},
   "source": [
    "**Xgboost**"
   ]
  },
  {
   "cell_type": "code",
   "execution_count": 13,
   "metadata": {},
   "outputs": [
    {
     "name": "stdout",
     "output_type": "stream",
     "text": [
      "RandomForest rsme mean: 0.11277971723437331 std: 0.014583308360391104\n",
      "Wall time: 16.1 s\n"
     ]
    }
   ],
   "source": [
    "%%time \n",
    "\n",
    "model_xgb = xgb.XGBRegressor(colsample_bytree=0.4603, gamma=0.0468, \n",
    "                             learning_rate=0.05, max_depth=3, \n",
    "                             min_child_weight=1.7817, n_estimators=2200,\n",
    "                             reg_alpha=0.4640, reg_lambda=0.8571,\n",
    "                             subsample=0.5213, silent=1,\n",
    "                             random_state =7, nthread = -1)\n",
    "model_xgb_score = cv_rsme(model_xgb, X_train, y_train)\n",
    "print(f\"RandomForest rsme mean: {model_xgb_score.mean()} std: {model_xgb_score.std()}\")\n",
    "\n",
    "df_scores.loc['Xgb', 'rsme'] = model_xgb_score.mean()\n",
    "df_scores.loc['Xgb', 'Summary'] = (model_xgb.get_params().keys(), model_xgb.get_params().values()) "
   ]
  },
  {
   "cell_type": "code",
   "execution_count": 14,
   "metadata": {},
   "outputs": [],
   "source": [
    "# Reference\n",
    "# https://www.analyticsvidhya.com/blog/2020/12/improve-predictive-model-score-stacking-regressor/\n",
    "class StackingAveragedModels(BaseEstimator, RegressorMixin, TransformerMixin):\n",
    "    def __init__(self, base_models, meta_model, n_folds=10):\n",
    "        self.base_models = base_models\n",
    "        self.meta_model = meta_model\n",
    "        self.n_folds = n_folds\n",
    "   \n",
    "    # We again fit the data on clones of the original models\n",
    "    def fit(self, X, y):\n",
    "        self.base_models_ = [list() for x in self.base_models]\n",
    "        self.meta_model_ = clone(self.meta_model)\n",
    "        kfold = KFold(n_splits=self.n_folds, shuffle=True, random_state=SEED)\n",
    "        \n",
    "        # Train cloned base models then create out-of-fold predictions\n",
    "        # that are needed to train the cloned meta-model\n",
    "        out_of_fold_predictions = np.zeros((X.shape[0], len(self.base_models)))\n",
    "        for i, model in enumerate(self.base_models):\n",
    "            for train_index, holdout_index in kfold.split(X, y):\n",
    "                instance = clone(model)\n",
    "                self.base_models_[i].append(instance)\n",
    "                instance.fit(X[train_index], y[train_index])\n",
    "                y_pred = instance.predict(X[holdout_index])\n",
    "                out_of_fold_predictions[holdout_index, i] = y_pred\n",
    "                \n",
    "        # Now train the cloned  meta-model using the out-of-fold predictions as new feature\n",
    "        self.meta_model_.fit(out_of_fold_predictions, y)\n",
    "        return self\n",
    "   \n",
    "    #Do the predictions of all base models on the test data and use the averaged predictions as \n",
    "    #meta-features for the final prediction which is done by the meta-model\n",
    "    def predict(self, X):\n",
    "        meta_features = np.column_stack([\n",
    "            np.column_stack([model.predict(X) for model in base_models]).mean(axis=1)\n",
    "            for base_models in self.base_models_ ])\n",
    "        return self.meta_model_.predict(meta_features)"
   ]
  },
  {
   "cell_type": "code",
   "execution_count": 15,
   "metadata": {},
   "outputs": [
    {
     "name": "stdout",
     "output_type": "stream",
     "text": [
      "Stacking rsme mean: 0.10653210371641864 std: 0.012996660250046676\n",
      "Wall time: 5min 7s\n"
     ]
    }
   ],
   "source": [
    "%%time\n",
    "\n",
    "stacked_averaged_models = StackingAveragedModels(base_models=(svr, en, GBoost, krr),\n",
    "                                                 meta_model=lasso, n_folds=n_folds)\n",
    "\n",
    "stacking_score = cv_rsme(stacked_averaged_models, X_train, y_train)\n",
    "print(f\"Stacking rsme mean: {stacking_score.mean()} std: {stacking_score.std()}\")\n",
    "\n",
    "\n",
    "df_scores.loc['Stacking', 'Summary'] = (\"base_models = (svr, en, GBoost),\\\n",
    "                                                 meta_model = lasso, n_folds=n_folds\")                   \n",
    "df_scores.loc['Stacking', 'rsme'] = stacking_score.mean()"
   ]
  },
  {
   "cell_type": "markdown",
   "metadata": {},
   "source": [
    "## Submission"
   ]
  },
  {
   "cell_type": "code",
   "execution_count": 16,
   "metadata": {},
   "outputs": [],
   "source": [
    "stacked_averaged_models.fit(X_train.values, y_train.values)\n",
    "preds = np.expm1(stacked_averaged_models.predict(X_test.values))"
   ]
  },
  {
   "cell_type": "code",
   "execution_count": 17,
   "metadata": {
    "_cell_guid": "3db46af9-e18a-43bb-9699-45b851f835e5",
    "_execution_state": "idle",
    "_uuid": "93f6915cf25c7bb6b6fa6e74ad7b853387ac1db5"
   },
   "outputs": [],
   "source": [
    "sub = pd.DataFrame()\n",
    "sub['Id'] = test_Id\n",
    "sub[TARGET] = preds\n",
    "sub.to_csv('submission.csv',index=False)"
   ]
  }
 ],
 "metadata": {
  "kernelspec": {
   "display_name": "Python 3",
   "language": "python",
   "name": "python3"
  },
  "language_info": {
   "codemirror_mode": {
    "name": "ipython",
    "version": 3
   },
   "file_extension": ".py",
   "mimetype": "text/x-python",
   "name": "python",
   "nbconvert_exporter": "python",
   "pygments_lexer": "ipython3",
   "version": "3.7.7"
  }
 },
 "nbformat": 4,
 "nbformat_minor": 4
}
