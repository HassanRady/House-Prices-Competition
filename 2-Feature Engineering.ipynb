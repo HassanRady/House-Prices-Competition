{
 "cells": [
  {
   "cell_type": "markdown",
   "metadata": {},
   "source": [
    "## References\n",
    "> https://www.kaggle.com/serigne/stacked-regressions-top-4-on-leaderboard <br>\n",
    "> https://github.com/trainindata/dmlm-research-and-production/blob/master/Section-2-Machine-Learning-Pipeline-Overview/Machine-Learning-Pipeline-Step2-Feature-Engineering.ipynb"
   ]
  },
  {
   "cell_type": "code",
   "execution_count": 1,
   "metadata": {},
   "outputs": [],
   "source": [
    "import numpy as np\n",
    "import pandas as pd\n",
    "\n",
    "from sklearn.preprocessing import OrdinalEncoder, MinMaxScaler, StandardScaler\n",
    "\n",
    "from scipy.stats import norm, skew\n",
    "from scipy.special import boxcox1p"
   ]
  },
  {
   "cell_type": "code",
   "execution_count": 2,
   "metadata": {},
   "outputs": [],
   "source": [
    "SEED = 42\n",
    "np.random.seed(SEED)\n",
    "\n",
    "TARGET = \"SalePrice\"\n",
    "TRAIN_SET = \"train.csv\"\n",
    "TEST_SET = 'test.csv'\n",
    "\n",
    "TIME_VARIATIONS = ['year', 'yr']"
   ]
  },
  {
   "cell_type": "code",
   "execution_count": 3,
   "metadata": {},
   "outputs": [],
   "source": [
    "df_train = pd.read_csv(TRAIN_SET)\n",
    "df_test = pd.read_csv(TEST_SET)\n",
    "\n",
    "df_train.set_index('Id', inplace=True)\n",
    "df_test.set_index('Id', inplace=True)"
   ]
  },
  {
   "cell_type": "code",
   "execution_count": 4,
   "metadata": {},
   "outputs": [],
   "source": [
    "numerical_variables = [var for var in df_train.columns if df_train[var].dtypes != 'O']\n",
    "# removing target \n",
    "numerical_variables.pop(numerical_variables.index(TARGET))\n",
    "numerical_variables_num = len(numerical_variables)\n",
    "\n",
    "time_vars = [var for var in numerical_variables for var2 in TIME_VARIATIONS if var2 in var.lower()]\n",
    "\n",
    "discrete_vars = [var for var in numerical_variables if len(df_train[var].unique()) < 20 and var not in time_vars]\n",
    "discrete_vars_num = len(discrete_vars)\n",
    "discrete_vars.pop(discrete_vars.index(\"PoolArea\"));\n",
    "discrete_vars_num -= 1\n",
    "\n",
    "continuous_vars = [var for var in numerical_variables if var not in time_vars+discrete_vars]\n",
    "continuous_vars_num = len(continuous_vars)\n",
    "\n",
    "categorical_variables = [var for var in df_train.columns if df_train[var].dtypes == 'O']\n",
    "categorical_variables_num = len(categorical_variables)"
   ]
  },
  {
   "cell_type": "code",
   "execution_count": 5,
   "metadata": {},
   "outputs": [
    {
     "name": "stdout",
     "output_type": "stream",
     "text": [
      "Number of nulls in features: 6965\n"
     ]
    }
   ],
   "source": [
    "print(f\"Number of nulls in features: {df_train.isnull().sum().sum()}\")"
   ]
  },
  {
   "cell_type": "code",
   "execution_count": 6,
   "metadata": {},
   "outputs": [
    {
     "name": "stdout",
     "output_type": "stream",
     "text": [
      "Number of null features: 3\n",
      "Number of nulls in numerical features: 348\n",
      "LotFrontage  \t259 nulls \t0.177%\n",
      "GarageYrBlt  \t81 nulls \t0.055%\n",
      "MasVnrArea  \t8 nulls \t0.005%\n",
      "YrSold  \t0 nulls \t0.000%\n",
      "BsmtFinSF2  \t0 nulls \t0.000%\n",
      "LowQualFinSF  \t0 nulls \t0.000%\n",
      "2ndFlrSF  \t0 nulls \t0.000%\n",
      "1stFlrSF  \t0 nulls \t0.000%\n",
      "TotalBsmtSF  \t0 nulls \t0.000%\n",
      "BsmtUnfSF  \t0 nulls \t0.000%\n",
      "BsmtFinSF1  \t0 nulls \t0.000%\n",
      "BsmtFullBath  \t0 nulls \t0.000%\n",
      "YearRemodAdd  \t0 nulls \t0.000%\n",
      "YearBuilt  \t0 nulls \t0.000%\n",
      "OverallCond  \t0 nulls \t0.000%\n",
      "OverallQual  \t0 nulls \t0.000%\n",
      "LotArea  \t0 nulls \t0.000%\n",
      "GrLivArea  \t0 nulls \t0.000%\n",
      "BsmtHalfBath  \t0 nulls \t0.000%\n",
      "MoSold  \t0 nulls \t0.000%\n",
      "WoodDeckSF  \t0 nulls \t0.000%\n",
      "MiscVal  \t0 nulls \t0.000%\n",
      "PoolArea  \t0 nulls \t0.000%\n",
      "ScreenPorch  \t0 nulls \t0.000%\n",
      "3SsnPorch  \t0 nulls \t0.000%\n",
      "EnclosedPorch  \t0 nulls \t0.000%\n",
      "OpenPorchSF  \t0 nulls \t0.000%\n",
      "GarageArea  \t0 nulls \t0.000%\n",
      "FullBath  \t0 nulls \t0.000%\n",
      "GarageCars  \t0 nulls \t0.000%\n",
      "Fireplaces  \t0 nulls \t0.000%\n",
      "TotRmsAbvGrd  \t0 nulls \t0.000%\n",
      "KitchenAbvGr  \t0 nulls \t0.000%\n",
      "BedroomAbvGr  \t0 nulls \t0.000%\n",
      "HalfBath  \t0 nulls \t0.000%\n",
      "MSSubClass  \t0 nulls \t0.000%\n"
     ]
    }
   ],
   "source": [
    "null_variables_in_numerics = [var for var in numerical_variables if df_train[var].isnull().sum() > 0]\n",
    "print(f\"Number of null features: {len(null_variables_in_numerics)}\")\n",
    "print(f\"Number of nulls in numerical features: {df_train[null_variables_in_numerics].isnull().sum().sum()}\")\n",
    "num_nulls = df_train[numerical_variables].isnull().sum().sort_values(ascending=False)\n",
    "for row in num_nulls.iteritems():\n",
    "    print(f\"{row[0]}  \\t{row[1]} nulls \\t{row[1]/df_train.shape[0]:.3f}%\")"
   ]
  },
  {
   "cell_type": "code",
   "execution_count": 7,
   "metadata": {},
   "outputs": [
    {
     "name": "stdout",
     "output_type": "stream",
     "text": [
      "Number of null features: 16\n",
      "Number of nulls in categorical features: 6617\n",
      "PoolQC   \t1453 nulls \t0.995%\n",
      "MiscFeature   \t1406 nulls \t0.963%\n",
      "Alley   \t1369 nulls \t0.938%\n",
      "Fence   \t1179 nulls \t0.808%\n",
      "FireplaceQu   \t690 nulls \t0.473%\n",
      "GarageCond   \t81 nulls \t0.055%\n",
      "GarageQual   \t81 nulls \t0.055%\n",
      "GarageFinish   \t81 nulls \t0.055%\n",
      "GarageType   \t81 nulls \t0.055%\n",
      "BsmtFinType2   \t38 nulls \t0.026%\n",
      "BsmtExposure   \t38 nulls \t0.026%\n",
      "BsmtFinType1   \t37 nulls \t0.025%\n",
      "BsmtQual   \t37 nulls \t0.025%\n",
      "BsmtCond   \t37 nulls \t0.025%\n",
      "MasVnrType   \t8 nulls \t0.005%\n",
      "Electrical   \t1 nulls \t0.001%\n",
      "Condition2   \t0 nulls \t0.000%\n",
      "Condition1   \t0 nulls \t0.000%\n",
      "Neighborhood   \t0 nulls \t0.000%\n",
      "LandSlope   \t0 nulls \t0.000%\n",
      "BldgType   \t0 nulls \t0.000%\n",
      "LandContour   \t0 nulls \t0.000%\n",
      "LotConfig   \t0 nulls \t0.000%\n",
      "Utilities   \t0 nulls \t0.000%\n",
      "RoofStyle   \t0 nulls \t0.000%\n",
      "LotShape   \t0 nulls \t0.000%\n",
      "Street   \t0 nulls \t0.000%\n",
      "HouseStyle   \t0 nulls \t0.000%\n",
      "SaleCondition   \t0 nulls \t0.000%\n",
      "RoofMatl   \t0 nulls \t0.000%\n",
      "Exterior1st   \t0 nulls \t0.000%\n",
      "Exterior2nd   \t0 nulls \t0.000%\n",
      "ExterQual   \t0 nulls \t0.000%\n",
      "ExterCond   \t0 nulls \t0.000%\n",
      "Foundation   \t0 nulls \t0.000%\n",
      "SaleType   \t0 nulls \t0.000%\n",
      "Heating   \t0 nulls \t0.000%\n",
      "HeatingQC   \t0 nulls \t0.000%\n",
      "CentralAir   \t0 nulls \t0.000%\n",
      "KitchenQual   \t0 nulls \t0.000%\n",
      "Functional   \t0 nulls \t0.000%\n",
      "PavedDrive   \t0 nulls \t0.000%\n",
      "MSZoning   \t0 nulls \t0.000%\n"
     ]
    }
   ],
   "source": [
    "null_variables_in_categoric = [var for var in categorical_variables if df_train[var].isnull().sum() > 0]\n",
    "print(f\"Number of null features: {len(null_variables_in_categoric)}\")\n",
    "print(f\"Number of nulls in categorical features: {df_train[null_variables_in_categoric].isnull().sum().sum()}\")\n",
    "num_nulls = df_train[categorical_variables].isnull().sum().sort_values(ascending=False)\n",
    "for row in num_nulls.iteritems():\n",
    "    print(f\"{row[0]}   \\t{row[1]} nulls \\t{row[1]/df_train.shape[0]:.3f}%\")"
   ]
  },
  {
   "cell_type": "markdown",
   "metadata": {},
   "source": [
    "## Removing the outliers"
   ]
  },
  {
   "cell_type": "code",
   "execution_count": 8,
   "metadata": {},
   "outputs": [],
   "source": [
    "#Deleting outliers\n",
    "df_train = df_train.drop(df_train[(df_train['GrLivArea']>4000) & (df_train[TARGET]<300000)].index)"
   ]
  },
  {
   "cell_type": "markdown",
   "metadata": {},
   "source": [
    "## Missing values"
   ]
  },
  {
   "cell_type": "markdown",
   "metadata": {},
   "source": [
    "**Categorical variables**"
   ]
  },
  {
   "cell_type": "code",
   "execution_count": 9,
   "metadata": {},
   "outputs": [
    {
     "data": {
      "text/plain": [
       "['Alley',\n",
       " 'MasVnrType',\n",
       " 'BsmtQual',\n",
       " 'BsmtCond',\n",
       " 'BsmtExposure',\n",
       " 'BsmtFinType1',\n",
       " 'BsmtFinType2',\n",
       " 'Electrical',\n",
       " 'FireplaceQu',\n",
       " 'GarageType',\n",
       " 'GarageFinish',\n",
       " 'GarageQual',\n",
       " 'GarageCond',\n",
       " 'PoolQC',\n",
       " 'Fence',\n",
       " 'MiscFeature']"
      ]
     },
     "execution_count": 9,
     "metadata": {},
     "output_type": "execute_result"
    }
   ],
   "source": [
    "null_variables_in_categoric"
   ]
  },
  {
   "cell_type": "markdown",
   "metadata": {},
   "source": [
    "- **Alley** : data description says NA means \"no alley access\".\n",
    "- **MasVnrType** : data description says None means \"None\".\n",
    "- **BsmtQual** : data description says NA means \"No Basement\".\n",
    "- **BsmtCond** : data description says NA means \"No Basement\".\n",
    "- **BsmtExposure** : data description says NA means \"No Basement\".\n",
    "- **BsmtFinType1** : data description says NA means \"No Basement\".\n",
    "- **BsmtFinType2** : data description says NA means \"No Basement\".\n",
    "- **FireplaceQu** : data description says NA means \"no fireplace\"\n",
    "- **GarageType** : NA means there is \"no garage\".\n",
    "- **GarageFinish** : NA means there is \"no garage\".\n",
    "- **GarageQual** : NA means there is \"no garage\".\n",
    "- **GarageCond** : NA means there is \"no garage\".\n",
    "- **PoolQC** : data description says NA means \"No  Pool\". \n",
    "- **Fence** : data description says NA means \"no fence\".\n",
    "- **MiscFeature** : data description says NA means \"None\".\n",
    "- **Electrical** : only 1 values missing so fill it with its mode won't affect as much."
   ]
  },
  {
   "cell_type": "code",
   "execution_count": 10,
   "metadata": {},
   "outputs": [
    {
     "data": {
      "text/plain": [
       "SaleCondition    0\n",
       "Condition2       0\n",
       "ExterQual        0\n",
       "MasVnrType       0\n",
       "Exterior2nd      0\n",
       "Exterior1st      0\n",
       "RoofMatl         0\n",
       "RoofStyle        0\n",
       "HouseStyle       0\n",
       "BldgType         0\n",
       "Condition1       0\n",
       "Foundation       0\n",
       "Neighborhood     0\n",
       "LandSlope        0\n",
       "LotConfig        0\n",
       "Utilities        0\n",
       "LandContour      0\n",
       "LotShape         0\n",
       "Alley            0\n",
       "Street           0\n",
       "ExterCond        0\n",
       "BsmtQual         0\n",
       "SaleType         0\n",
       "FireplaceQu      0\n",
       "MiscFeature      0\n",
       "Fence            0\n",
       "PoolQC           0\n",
       "PavedDrive       0\n",
       "GarageCond       0\n",
       "GarageQual       0\n",
       "GarageFinish     0\n",
       "GarageType       0\n",
       "Functional       0\n",
       "BsmtCond         0\n",
       "KitchenQual      0\n",
       "Electrical       0\n",
       "CentralAir       0\n",
       "HeatingQC        0\n",
       "Heating          0\n",
       "BsmtFinType2     0\n",
       "BsmtFinType1     0\n",
       "BsmtExposure     0\n",
       "MSZoning         0\n",
       "dtype: int64"
      ]
     },
     "execution_count": 10,
     "metadata": {},
     "output_type": "execute_result"
    }
   ],
   "source": [
    "df_train[null_variables_in_categoric] = df_train[null_variables_in_categoric].fillna('NONE')\n",
    "df_test[null_variables_in_categoric] = df_test[null_variables_in_categoric].fillna('NONE')\n",
    "\n",
    "\n",
    "num_nulls = df_train[categorical_variables].isnull().sum().sort_values(ascending=False)\n",
    "num_nulls"
   ]
  },
  {
   "cell_type": "code",
   "execution_count": 11,
   "metadata": {},
   "outputs": [
    {
     "data": {
      "text/plain": [
       "MSZoning         4\n",
       "Utilities        2\n",
       "Functional       2\n",
       "SaleType         1\n",
       "Exterior2nd      1\n",
       "Exterior1st      1\n",
       "KitchenQual      1\n",
       "Alley            0\n",
       "BldgType         0\n",
       "MasVnrType       0\n",
       "RoofMatl         0\n",
       "RoofStyle        0\n",
       "HouseStyle       0\n",
       "Condition2       0\n",
       "LotShape         0\n",
       "ExterCond        0\n",
       "Condition1       0\n",
       "Neighborhood     0\n",
       "LandSlope        0\n",
       "LotConfig        0\n",
       "Street           0\n",
       "LandContour      0\n",
       "ExterQual        0\n",
       "SaleCondition    0\n",
       "Foundation       0\n",
       "GarageType       0\n",
       "MiscFeature      0\n",
       "Fence            0\n",
       "PoolQC           0\n",
       "PavedDrive       0\n",
       "GarageCond       0\n",
       "GarageQual       0\n",
       "GarageFinish     0\n",
       "FireplaceQu      0\n",
       "BsmtCond         0\n",
       "Electrical       0\n",
       "CentralAir       0\n",
       "HeatingQC        0\n",
       "Heating          0\n",
       "BsmtFinType2     0\n",
       "BsmtFinType1     0\n",
       "BsmtExposure     0\n",
       "BsmtQual         0\n",
       "dtype: int64"
      ]
     },
     "execution_count": 11,
     "metadata": {},
     "output_type": "execute_result"
    }
   ],
   "source": [
    "df_test[categorical_variables].isnull().sum().sort_values(ascending=False)"
   ]
  },
  {
   "cell_type": "markdown",
   "metadata": {},
   "source": [
    "- **MSZoning** : only 4 values missing so fill it with its mode won't affect as much.\n",
    "- **Utilities** : only 2 values missing so fill it with its mode won't affect as much.\n",
    "- **Exterior1st & Exterior2nd** : only 1 values missing so fill them with there mode won't affect as much.\n",
    "- **KitchenQual** : only 1 values missing so fill it with its mode won't affect as much.\n",
    "- **Functional** : only 2 values missing so fill it with its mode won't affect as much.\n",
    "- **SaleType** : only 1 values missing so fill it with its mode won't affect as much."
   ]
  },
  {
   "cell_type": "code",
   "execution_count": 12,
   "metadata": {},
   "outputs": [],
   "source": [
    "categorical_features_nulls_filled_with_mode = ['MSZoning', 'Utilities', 'Exterior1st', 'Exterior2nd', 'Electrical', 'KitchenQual', 'Functional', 'SaleType']\n",
    "for var in categorical_features_nulls_filled_with_mode:\n",
    "    mode = df_test[var].mode()[0]\n",
    "    df_test[var] = df_test[var].fillna(mode)"
   ]
  },
  {
   "cell_type": "markdown",
   "metadata": {},
   "source": [
    "**Numerical variables**"
   ]
  },
  {
   "cell_type": "code",
   "execution_count": 13,
   "metadata": {},
   "outputs": [
    {
     "data": {
      "text/plain": [
       "['LotFrontage', 'MasVnrArea', 'GarageYrBlt']"
      ]
     },
     "execution_count": 13,
     "metadata": {},
     "output_type": "execute_result"
    }
   ],
   "source": [
    "null_variables_in_numerics"
   ]
  },
  {
   "cell_type": "markdown",
   "metadata": {},
   "source": [
    "- **LotFrontage** : add a binary missing value indicator variable then fill with the \"mode\".\n",
    "- **MasVnrArea** : add a binary missing value indicator variable then fill with the \"mode\".\n",
    "- **GarageYrBlt, GarageCars & GarageArea** : since there is no grage then fill with \"0\".\n",
    "- **BsmtFinSF1, BsmtFinSF2, BsmtUnfSF, TotalBsmtSF, BsmtFullBath & BsmtHalfBath** : since there is no basement then fill with \"0\"."
   ]
  },
  {
   "cell_type": "code",
   "execution_count": 14,
   "metadata": {},
   "outputs": [
    {
     "data": {
      "text/plain": [
       "YrSold           0\n",
       "MoSold           0\n",
       "GrLivArea        0\n",
       "LowQualFinSF     0\n",
       "2ndFlrSF         0\n",
       "1stFlrSF         0\n",
       "TotalBsmtSF      0\n",
       "BsmtUnfSF        0\n",
       "BsmtFinSF2       0\n",
       "BsmtFinSF1       0\n",
       "MasVnrArea       0\n",
       "YearRemodAdd     0\n",
       "YearBuilt        0\n",
       "OverallCond      0\n",
       "OverallQual      0\n",
       "LotArea          0\n",
       "LotFrontage      0\n",
       "BsmtFullBath     0\n",
       "BsmtHalfBath     0\n",
       "FullBath         0\n",
       "WoodDeckSF       0\n",
       "MiscVal          0\n",
       "PoolArea         0\n",
       "ScreenPorch      0\n",
       "3SsnPorch        0\n",
       "EnclosedPorch    0\n",
       "OpenPorchSF      0\n",
       "GarageArea       0\n",
       "HalfBath         0\n",
       "GarageCars       0\n",
       "GarageYrBlt      0\n",
       "Fireplaces       0\n",
       "TotRmsAbvGrd     0\n",
       "KitchenAbvGr     0\n",
       "BedroomAbvGr     0\n",
       "MSSubClass       0\n",
       "dtype: int64"
      ]
     },
     "execution_count": 14,
     "metadata": {},
     "output_type": "execute_result"
    }
   ],
   "source": [
    "numerical_features_nulls_filled_with_zero = ['GarageYrBlt']\n",
    "\n",
    "df_train[numerical_features_nulls_filled_with_zero] = df_train[numerical_features_nulls_filled_with_zero].fillna(0)\n",
    "df_test[numerical_features_nulls_filled_with_zero] = df_test[numerical_features_nulls_filled_with_zero].fillna(0)\n",
    "\n",
    "\n",
    "numerical_features_nulls_filled_with_mode = ['LotFrontage', 'MasVnrArea']\n",
    "for var in numerical_features_nulls_filled_with_mode:\n",
    "    mode = df_train[var].mode()[0]\n",
    "    df_train[var+'_na'] = df_train[var].isnull()\n",
    "    df_train[var] = df_train[var].fillna(mode)\n",
    "    \n",
    "    df_test[var+'_na'] = df_test[var].isnull()\n",
    "    df_test[var] = df_test[var].fillna(mode)\n",
    "    \n",
    "    \n",
    "num_nulls = df_train[numerical_variables].isnull().sum().sort_values(ascending=False)\n",
    "num_nulls   "
   ]
  },
  {
   "cell_type": "code",
   "execution_count": 15,
   "metadata": {},
   "outputs": [
    {
     "data": {
      "text/plain": [
       "BsmtHalfBath     2\n",
       "BsmtFullBath     2\n",
       "TotalBsmtSF      1\n",
       "BsmtUnfSF        1\n",
       "BsmtFinSF2       1\n",
       "BsmtFinSF1       1\n",
       "GarageCars       1\n",
       "GarageArea       1\n",
       "MasVnrArea       0\n",
       "YearRemodAdd     0\n",
       "YearBuilt        0\n",
       "OverallCond      0\n",
       "OverallQual      0\n",
       "LotArea          0\n",
       "LotFrontage      0\n",
       "1stFlrSF         0\n",
       "2ndFlrSF         0\n",
       "LowQualFinSF     0\n",
       "GrLivArea        0\n",
       "YrSold           0\n",
       "MoSold           0\n",
       "FullBath         0\n",
       "HalfBath         0\n",
       "BedroomAbvGr     0\n",
       "KitchenAbvGr     0\n",
       "TotRmsAbvGrd     0\n",
       "Fireplaces       0\n",
       "GarageYrBlt      0\n",
       "WoodDeckSF       0\n",
       "OpenPorchSF      0\n",
       "EnclosedPorch    0\n",
       "3SsnPorch        0\n",
       "ScreenPorch      0\n",
       "PoolArea         0\n",
       "MiscVal          0\n",
       "MSSubClass       0\n",
       "dtype: int64"
      ]
     },
     "execution_count": 15,
     "metadata": {},
     "output_type": "execute_result"
    }
   ],
   "source": [
    "df_test[numerical_variables].isnull().sum().sort_values(ascending=False)"
   ]
  },
  {
   "cell_type": "code",
   "execution_count": 16,
   "metadata": {},
   "outputs": [],
   "source": [
    "numerical_features_nulls_filled_with_zero_in_test_set = ['GarageCars', 'GarageArea', 'BsmtFinSF1', 'BsmtFinSF2', 'BsmtUnfSF', 'TotalBsmtSF', 'BsmtFullBath', 'BsmtHalfBath']\n",
    "df_test[numerical_features_nulls_filled_with_zero_in_test_set] = df_test[numerical_features_nulls_filled_with_zero_in_test_set].fillna(0)"
   ]
  },
  {
   "cell_type": "markdown",
   "metadata": {},
   "source": [
    "## Adding Features"
   ]
  },
  {
   "cell_type": "markdown",
   "metadata": {},
   "source": [
    "- **TimeSold** : the difference between the year the house was sold and the year the house was built.\n",
    "<!-- - **TimeSold** : the difference between the year the house was sold and the year the house was built. -->"
   ]
  },
  {
   "cell_type": "code",
   "execution_count": 17,
   "metadata": {},
   "outputs": [],
   "source": [
    "df_train['TimeSold'] = df_train['YrSold'] - df_train['YearBuilt']\n",
    "df_test['TimeSold'] = df_test['YrSold'] - df_test['YearBuilt']"
   ]
  },
  {
   "cell_type": "markdown",
   "metadata": {},
   "source": [
    "## Categorical Encoding"
   ]
  },
  {
   "cell_type": "code",
   "execution_count": 18,
   "metadata": {},
   "outputs": [],
   "source": [
    "def to_ordinal_encoding(train, test, var):\n",
    "    train = train.copy()\n",
    "    test = test.copy()\n",
    "\n",
    "    orderd_labels = train.groupby(var)[TARGET].mean().sort_values().index.tolist()\n",
    "    ordinal_encoder = OrdinalEncoder(categories=[orderd_labels], handle_unknown='ignore')\n",
    "    \n",
    "    train[var] = ordinal_encoder.fit_transform(train[var].values.reshape(-1, 1))\n",
    "    test[var] = ordinal_encoder.transform(test[var].values.reshape(-1, 1))\n",
    "    \n",
    "    return train, test"
   ]
  },
  {
   "cell_type": "code",
   "execution_count": 19,
   "metadata": {},
   "outputs": [],
   "source": [
    "for var in categorical_variables:\n",
    "    df_train, df_test = to_ordinal_encoding(df_train, df_test, var)"
   ]
  },
  {
   "cell_type": "markdown",
   "metadata": {},
   "source": [
    "## Adding Features (again)"
   ]
  },
  {
   "cell_type": "code",
   "execution_count": 20,
   "metadata": {},
   "outputs": [],
   "source": [
    "# Reference\n",
    "# https://www.kaggle.com/juliencs/a-study-on-regression-applied-to-the-ames-dataset\n",
    "train = df_train\n",
    "test = df_test\n",
    "\n",
    "train[\"OverallGrade\"] = train[\"OverallQual\"] * train[\"OverallCond\"]\n",
    "# Overall quality of the garage\n",
    "train[\"GarageGrade\"] = train[\"GarageQual\"] * train[\"GarageCond\"]\n",
    "# Overall quality of the exterior\n",
    "train[\"ExterGrade\"] = train[\"ExterQual\"] * train[\"ExterCond\"]\n",
    "# Overall kitchen score\n",
    "train[\"KitchenScore\"] = train[\"KitchenAbvGr\"] * train[\"KitchenQual\"]\n",
    "# Overall fireplace score\n",
    "train[\"FireplaceScore\"] = train[\"Fireplaces\"] * train[\"FireplaceQu\"]\n",
    "# Overall garage score\n",
    "train[\"GarageScore\"] = train[\"GarageArea\"] * train[\"GarageQual\"]\n",
    "# Overall pool score\n",
    "train[\"PoolScore\"] = train[\"PoolArea\"] * train[\"PoolQC\"]\n",
    "# Total number of bathrooms\n",
    "train[\"TotalBath\"] = train[\"BsmtFullBath\"] + (0.5 * train[\"BsmtHalfBath\"]) + \\\n",
    "train[\"FullBath\"] + (0.5 * train[\"HalfBath\"])\n",
    "# Total SF for house (incl. basement)\n",
    "train[\"AllSF\"] = train[\"GrLivArea\"] + train[\"TotalBsmtSF\"]\n",
    "# Total SF for 1st + 2nd floors\n",
    "train[\"AllFlrsSF\"] = train[\"1stFlrSF\"] + train[\"2ndFlrSF\"]\n",
    "# Total SF for porch\n",
    "train[\"AllPorchSF\"] = train[\"OpenPorchSF\"] + train[\"EnclosedPorch\"] + \\\n",
    "train[\"3SsnPorch\"] + train[\"ScreenPorch\"]\n",
    "\n",
    "test[\"OverallGrade\"] = test[\"OverallQual\"] * test[\"OverallCond\"]\n",
    "# Overall quality of the garage\n",
    "test[\"GarageGrade\"] = test[\"GarageQual\"] * test[\"GarageCond\"]\n",
    "# Overall quality of the exterior\n",
    "test[\"ExterGrade\"] = test[\"ExterQual\"] * test[\"ExterCond\"]\n",
    "# Overall kitchen score\n",
    "test[\"KitchenScore\"] = test[\"KitchenAbvGr\"] * test[\"KitchenQual\"]\n",
    "# Overall fireplace score\n",
    "test[\"FireplaceScore\"] = test[\"Fireplaces\"] * test[\"FireplaceQu\"]\n",
    "# Overall garage score\n",
    "test[\"GarageScore\"] = test[\"GarageArea\"] * test[\"GarageQual\"]\n",
    "# Overall pool score\n",
    "test[\"PoolScore\"] = test[\"PoolArea\"] * test[\"PoolQC\"]\n",
    "# Total number of bathrooms\n",
    "test[\"TotalBath\"] = test[\"BsmtFullBath\"] + (0.5 * test[\"BsmtHalfBath\"]) + \\\n",
    "test[\"FullBath\"] + (0.5 * test[\"HalfBath\"])\n",
    "# Total SF for house (incl. basement)\n",
    "test[\"AllSF\"] = test[\"GrLivArea\"] + test[\"TotalBsmtSF\"]\n",
    "# Total SF for 1st + 2nd floors\n",
    "test[\"AllFlrsSF\"] = test[\"1stFlrSF\"] + test[\"2ndFlrSF\"]\n",
    "# Total SF for porch\n",
    "test[\"AllPorchSF\"] = test[\"OpenPorchSF\"] + test[\"EnclosedPorch\"] + \\\n",
    "test[\"3SsnPorch\"] + test[\"ScreenPorch\"]\n",
    "\n",
    "df_train = train\n",
    "df_test = test"
   ]
  },
  {
   "cell_type": "markdown",
   "metadata": {},
   "source": [
    "## Feature Transformation & Scaling"
   ]
  },
  {
   "cell_type": "code",
   "execution_count": 21,
   "metadata": {},
   "outputs": [],
   "source": [
    "def transform_with_log(train, test, features):\n",
    "    train = train.copy()\n",
    "    test = test.copy()\n",
    "    \n",
    "    for var in features:\n",
    "        train[var] = np.log(train[var])\n",
    "        test[var] = np.log(test[var]) \n",
    "        \n",
    "    return train, test"
   ]
  },
  {
   "cell_type": "code",
   "execution_count": 22,
   "metadata": {},
   "outputs": [],
   "source": [
    "features_transformed_with_log = ['LotFrontage', 'LotArea', '1stFlrSF', 'GrLivArea']\n",
    "df_train, df_test = transform_with_log(df_train, df_test, features_transformed_with_log)\n",
    "\n",
    "df_train[TARGET] = np.log(df_train[TARGET])"
   ]
  },
  {
   "cell_type": "code",
   "execution_count": 23,
   "metadata": {},
   "outputs": [],
   "source": [
    "features = [var for var in df_train.columns if var != 'SalePrice']"
   ]
  },
  {
   "cell_type": "code",
   "execution_count": 24,
   "metadata": {},
   "outputs": [],
   "source": [
    "def transform_with_MinMax(train, test, features):\n",
    "    train = train.copy()\n",
    "    test = test.copy()\n",
    "    \n",
    "    scaler = MinMaxScaler()\n",
    "    scaler.fit(train[features])\n",
    "    \n",
    "    train[features] = scaler.transform(train[features])\n",
    "    test[features] = scaler.transform(test[features])\n",
    "    \n",
    "    return train, test\n",
    "\n",
    "def transform_with_Standard(train, test, features):\n",
    "    train = train.copy()\n",
    "    test = test.copy()\n",
    "    \n",
    "    scaler = StandardScaler()\n",
    "    scaler.fit(train[features])\n",
    "    \n",
    "    train[features] = scaler.transform(train[features])\n",
    "    test[features] = scaler.transform(test[features])\n",
    "    \n",
    "    return train, test"
   ]
  },
  {
   "cell_type": "code",
   "execution_count": 25,
   "metadata": {},
   "outputs": [],
   "source": [
    "df_train, df_test = transform_with_MinMax(df_train, df_test, features)"
   ]
  },
  {
   "cell_type": "code",
   "execution_count": 26,
   "metadata": {},
   "outputs": [],
   "source": [
    "def get_skewed_features(train, numeric_feats, threshold=0.5):\n",
    "    df_train = train.copy()\n",
    "\n",
    "    skewed_feats = df_train[numeric_feats].apply(lambda x: skew(x)).sort_values(ascending=False)\n",
    "    skewness = pd.DataFrame({'Skew' :skewed_feats})\n",
    "\n",
    "    skewness = skewness[abs(skewness) > threshold]\n",
    "    print(\"There are {} skewed numerical features to Box Cox transform\".format(skewness.shape[0]))\n",
    "    \n",
    "    return skewness.index\n",
    "\n",
    "def transform_with_box_cox(data, skewed_features, lambda_=0.15):\n",
    "    data = data.copy()\n",
    "    lambda_ = lambda_\n",
    "    \n",
    "    for feat in skewed_features:\n",
    "        data[feat] = boxcox1p(data[feat], lambda_)\n",
    "        \n",
    "    return data"
   ]
  },
  {
   "cell_type": "code",
   "execution_count": 27,
   "metadata": {},
   "outputs": [
    {
     "name": "stdout",
     "output_type": "stream",
     "text": [
      "There are 93 skewed numerical features to Box Cox transform\n"
     ]
    }
   ],
   "source": [
    "skewed_features = get_skewed_features(df_train, features)\n",
    "\n",
    "df_train = transform_with_box_cox(df_train, skewed_features)\n",
    "df_test = transform_with_box_cox(df_test, skewed_features)"
   ]
  },
  {
   "cell_type": "code",
   "execution_count": 28,
   "metadata": {},
   "outputs": [],
   "source": [
    "df_train.to_csv('processed_train.csv', index=False)\n",
    "df_test.to_csv('processed_test.csv', index=True)"
   ]
  }
 ],
 "metadata": {
  "kernelspec": {
   "display_name": "Python 3",
   "language": "python",
   "name": "python3"
  },
  "language_info": {
   "codemirror_mode": {
    "name": "ipython",
    "version": 3
   },
   "file_extension": ".py",
   "mimetype": "text/x-python",
   "name": "python",
   "nbconvert_exporter": "python",
   "pygments_lexer": "ipython3",
   "version": "3.7.7"
  }
 },
 "nbformat": 4,
 "nbformat_minor": 4
}
